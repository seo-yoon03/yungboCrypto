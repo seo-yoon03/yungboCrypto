{
 "cells": [
  {
   "cell_type": "code",
   "execution_count": 1,
   "metadata": {},
   "outputs": [
    {
     "name": "stdout",
     "output_type": "stream",
     "text": [
      "BLAKE2b Hash: C:/Users/seoyu/OneDrive/사진/벚꽃.jfif: 58c34c977ebaddc9a13a12438e917514d6a8071f73de2e626f93ffb28d6483117a2c0dbc85c2dbcd24735d45d453a4af4b08d7413c7293e0c0f243e41d66bf11\n"
     ]
    }
   ],
   "source": [
    "import tkinter as tk  # tkinter GUI 라이브러리 임포트\n",
    "from tkinter import filedialog  # tkinter 파일 대화상자 모듈 임포트\n",
    "from PIL import Image, ImageTk  # Pillow 라이브러리에서 이미지 처리와 PhotoImage 클래스 임포트\n",
    "from hashlib import blake2b  # BLAKE2 해시 함수 구현 라이브러리 임포트\n",
    "\n",
    "def open_image():  # 이미지 열기 함수\n",
    "    file_path = filedialog.askopenfilename()  # 파일 대화상자를 열고 선택한 파일 경로를 가져옴\n",
    "    if file_path:  # 파일이 선택된 경우\n",
    "        image = Image.open(file_path)  # 이미지 파일을 열기\n",
    "        image = image.resize((400, 400), Image.LANCZOS)  # 이미지 크기 조정\n",
    "        photo = ImageTk.PhotoImage(image)  # PhotoImage 객체 생성\n",
    "        image_label.configure(image=photo)  # 레이블에 이미지 설정\n",
    "        image_label.image = photo  # 레퍼런스 유지를 위해 이미지 객체 저장\n",
    "\n",
    "        hash_value = hash_image(file_path)  # 이미지 파일의 해시 값 계산\n",
    "        hash_label.configure(text=f\"BLAKE2b Hash: {hash_value}\")  # 레이블에 해시 값 표시\n",
    "        print(f\"BLAKE2b Hash: {file_path}: {hash_value}\") # 콘솔에 해시 값 출력\n",
    "\n",
    "def hash_image(file_path):  # 이미지 해시 계산 함수\n",
    "    with open(file_path, 'rb') as f:  # 이미지 파일을 바이너리 모드로 열기\n",
    "        image_data = f.read()  # 이미지 바이너리 데이터 읽기\n",
    "    return blake2b(image_data).hexdigest()  # BLAKE2b 해시 계산 및 16진수 문자열 반환\n",
    "\n",
    "root = tk.Tk()  # tkinter 루트 창 생성\n",
    "root.title(\"Image Hash Generator\")  # 창 제목 설정\n",
    "\n",
    "open_button = tk.Button(root, text=\"Open Image\", command=open_image)  # 이미지 열기 버튼 생성\n",
    "open_button.pack(pady=10)  # 버튼 배치\n",
    "\n",
    "image_label = tk.Label(root)  # 이미지 레이블 생성\n",
    "image_label.pack(pady=10)  # 레이블 배치\n",
    "\n",
    "hash_label = tk.Label(root, text=\"\")  # 해시 값 레이블 생성\n",
    "hash_label.pack(pady=10)  # 레이블 배치\n",
    "\n",
    "root.mainloop()  # tkinter 메인 루프 실행"
   ]
  },
  {
   "cell_type": "code",
   "execution_count": 1,
   "metadata": {},
   "outputs": [
    {
     "name": "stdout",
     "output_type": "stream",
     "text": [
      "Collecting pillow\n",
      "  Downloading pillow-10.3.0-cp312-cp312-win_amd64.whl.metadata (9.4 kB)\n",
      "Downloading pillow-10.3.0-cp312-cp312-win_amd64.whl (2.5 MB)\n",
      "   ---------------------------------------- 0.0/2.5 MB ? eta -:--:--\n",
      "   ---------------------------------------- 0.0/2.5 MB ? eta -:--:--\n",
      "   - -------------------------------------- 0.1/2.5 MB 1.7 MB/s eta 0:00:02\n",
      "   --------- ------------------------------ 0.6/2.5 MB 6.3 MB/s eta 0:00:01\n",
      "   ------------------ --------------------- 1.2/2.5 MB 8.2 MB/s eta 0:00:01\n",
      "   ------------------------- -------------- 1.6/2.5 MB 8.6 MB/s eta 0:00:01\n",
      "   --------------------------------- ------ 2.1/2.5 MB 9.5 MB/s eta 0:00:01\n",
      "   ---------------------------------------  2.5/2.5 MB 10.1 MB/s eta 0:00:01\n",
      "   ---------------------------------------- 2.5/2.5 MB 9.0 MB/s eta 0:00:00\n",
      "Installing collected packages: pillow\n",
      "Successfully installed pillow-10.3.0\n"
     ]
    }
   ],
   "source": [
    "! pip install pillow"
   ]
  },
  {
   "cell_type": "code",
   "execution_count": null,
   "metadata": {},
   "outputs": [],
   "source": []
  }
 ],
 "metadata": {
  "kernelspec": {
   "display_name": "Python 3",
   "language": "python",
   "name": "python3"
  },
  "language_info": {
   "codemirror_mode": {
    "name": "ipython",
    "version": 3
   },
   "file_extension": ".py",
   "mimetype": "text/x-python",
   "name": "python",
   "nbconvert_exporter": "python",
   "pygments_lexer": "ipython3",
   "version": "3.12.2"
  }
 },
 "nbformat": 4,
 "nbformat_minor": 2
}
